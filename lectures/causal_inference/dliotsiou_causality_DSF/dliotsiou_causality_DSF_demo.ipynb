{
 "cells": [
  {
   "cell_type": "markdown",
   "id": "514c9abb-090a-4d49-8926-e2b30f45f44c",
   "metadata": {
    "tags": []
   },
   "source": [
    "# The causal data science pipeline in practice\n",
    "<!-- Demo using example of a retail problem. -->\n",
    "\n",
    "Let's say retailer offers a premium monthly subscription programme: \n",
    "* further discounts on mainline shopping, and\n",
    "* benefits with this company's other verticals (e.g. clothing line; cafe; etc). \n",
    "\n",
    "Question: **What is the effect of subscribing to this programme on mainline spend at this company?**  \n",
    "* Synthetic data\n",
    "\n",
    "\n"
   ]
  },
  {
   "cell_type": "markdown",
   "id": "147a703f-5de2-4032-8665-6f4ec18b6032",
   "metadata": {
    "execution": {
     "iopub.execute_input": "2023-09-28T11:03:54.765065Z",
     "iopub.status.busy": "2023-09-28T11:03:54.764266Z",
     "iopub.status.idle": "2023-09-28T11:03:54.781312Z",
     "shell.execute_reply": "2023-09-28T11:03:54.777323Z",
     "shell.execute_reply.started": "2023-09-28T11:03:54.764965Z"
    }
   },
   "source": [
    "# The causal pipeline\n",
    "\n",
    "## 1. Draw causal DAG\n",
    "First, map out the relevant variables\n",
    "* **X: subscribing or not**\n",
    "* **Y: spend**\n",
    "* Other relevant causes? Sit down and think with team and stakeholders, think of all potential causes and causal paths that could affect whether subscribe and/or spend?\n",
    "    - **disposable income:** high income might spend more and not care about discounts/ benefits of the programme\n",
    "    - **age:** depending on age, different needs, life stages, mindsets, e.g. 20s, 40s, 70s.\n",
    "    - **family size:** if someone with a large family, higher volume of shopping, might spend more, and might see value in subscribing and discounts etc benefits\n",
    "    - **interest in verticals:** if are interested other verticals, might find programme more appealing.\n",
    "    - **... more:** realistically will have many more relevant, but stop here in the interest of time.\n",
    "\n",
    "Draw all this in causal DAG as you go, with all possible arrows, and visualise it. \n",
    "\n",
    "Python [DoWhy](https://github.com/py-why/dowhyhttps://github.com/py-why/dowhy) syntax:\n"
   ]
  },
  {
   "cell_type": "code",
   "execution_count": 2,
   "id": "d870edd9-85a6-4225-93c8-de787b6e8526",
   "metadata": {
    "execution": {
     "iopub.execute_input": "2023-10-10T17:39:19.781086Z",
     "iopub.status.busy": "2023-10-10T17:39:19.780284Z",
     "iopub.status.idle": "2023-10-10T17:39:23.931986Z",
     "shell.execute_reply": "2023-10-10T17:39:23.928571Z",
     "shell.execute_reply.started": "2023-10-10T17:39:19.780982Z"
    },
    "tags": []
   },
   "outputs": [],
   "source": [
    "import matplotlib.pyplot as plt\n",
    "import dowhy\n",
    "from dowhy import CausalModel"
   ]
  },
  {
   "cell_type": "code",
   "execution_count": 3,
   "id": "a103a9fe-4368-4237-a36b-40a657611feb",
   "metadata": {
    "execution": {
     "iopub.execute_input": "2023-10-10T17:39:23.936583Z",
     "iopub.status.busy": "2023-10-10T17:39:23.936177Z",
     "iopub.status.idle": "2023-10-10T17:39:23.950188Z",
     "shell.execute_reply": "2023-10-10T17:39:23.948945Z",
     "shell.execute_reply.started": "2023-10-10T17:39:23.936518Z"
    },
    "tags": []
   },
   "outputs": [
    {
     "data": {
      "text/plain": [
       "'0.8'"
      ]
     },
     "execution_count": 3,
     "metadata": {},
     "output_type": "execute_result"
    }
   ],
   "source": [
    "dowhy.__version__ # not latest: Date: Sep 05, 2023 Version: v0.10.1"
   ]
  },
  {
   "cell_type": "code",
   "execution_count": 4,
   "id": "2349d5e1-787a-48c1-b23a-b07c74905b95",
   "metadata": {
    "execution": {
     "iopub.execute_input": "2023-10-10T17:39:23.954181Z",
     "iopub.status.busy": "2023-10-10T17:39:23.953790Z",
     "iopub.status.idle": "2023-10-10T17:39:24.019745Z",
     "shell.execute_reply": "2023-10-10T17:39:24.017625Z",
     "shell.execute_reply.started": "2023-10-10T17:39:23.954127Z"
    },
    "tags": []
   },
   "outputs": [],
   "source": [
    "# Digraph Syntax\n",
    "\n",
    "causal_graph = \"\"\"\n",
    "digraph {\n",
    "age -> disp_income; age -> vertical_interest; age -> family_size;\n",
    "age -> premium_sub; age -> post_spend; \n",
    "disp_income -> vertical_interest; disp_income -> family_size;\n",
    "disp_income -> premium_sub; disp_income -> post_spend;\n",
    "family_size -> vertical_interest; family_size -> premium_sub;\n",
    "family_size -> post_spend;\n",
    "vertical_interest-> premium_sub; vertical_interest-> post_spend;\n",
    "premium_sub -> post_spend;\n",
    "}\n",
    "\"\"\""
   ]
  },
  {
   "cell_type": "markdown",
   "id": "42f65324-c9ba-4f83-b2a9-be78863eaa29",
   "metadata": {},
   "source": [
    "To define a `CausalModel` object in DoWhy and then identify estimands, first need a dataframe with columns : DAG variables, no need for data"
   ]
  },
  {
   "cell_type": "code",
   "execution_count": 5,
   "id": "cc306f50-f1a2-43fd-a495-6955934acfdb",
   "metadata": {
    "execution": {
     "iopub.execute_input": "2023-10-10T17:39:24.024604Z",
     "iopub.status.busy": "2023-10-10T17:39:24.024176Z",
     "iopub.status.idle": "2023-10-10T17:39:24.053014Z",
     "shell.execute_reply": "2023-10-10T17:39:24.050816Z",
     "shell.execute_reply.started": "2023-10-10T17:39:24.024530Z"
    },
    "tags": []
   },
   "outputs": [],
   "source": [
    "import pandas as pd"
   ]
  },
  {
   "cell_type": "code",
   "execution_count": 6,
   "id": "21a9aa46-18a0-43d5-927c-c1db9e2fa8ed",
   "metadata": {
    "execution": {
     "iopub.execute_input": "2023-10-10T17:39:24.057353Z",
     "iopub.status.busy": "2023-10-10T17:39:24.056254Z",
     "iopub.status.idle": "2023-10-10T17:39:24.137092Z",
     "shell.execute_reply": "2023-10-10T17:39:24.135063Z",
     "shell.execute_reply.started": "2023-10-10T17:39:24.057276Z"
    },
    "tags": []
   },
   "outputs": [
    {
     "data": {
      "text/html": [
       "<div>\n",
       "<style scoped>\n",
       "    .dataframe tbody tr th:only-of-type {\n",
       "        vertical-align: middle;\n",
       "    }\n",
       "\n",
       "    .dataframe tbody tr th {\n",
       "        vertical-align: top;\n",
       "    }\n",
       "\n",
       "    .dataframe thead th {\n",
       "        text-align: right;\n",
       "    }\n",
       "</style>\n",
       "<table border=\"1\" class=\"dataframe\">\n",
       "  <thead>\n",
       "    <tr style=\"text-align: right;\">\n",
       "      <th></th>\n",
       "      <th>age</th>\n",
       "      <th>disp_income</th>\n",
       "      <th>family_size</th>\n",
       "      <th>premium_sub</th>\n",
       "      <th>post_spend</th>\n",
       "      <th>vertical_interest</th>\n",
       "    </tr>\n",
       "  </thead>\n",
       "  <tbody>\n",
       "  </tbody>\n",
       "</table>\n",
       "</div>"
      ],
      "text/plain": [
       "Empty DataFrame\n",
       "Columns: [age, disp_income, family_size, premium_sub, post_spend, vertical_interest]\n",
       "Index: []"
      ]
     },
     "execution_count": 6,
     "metadata": {},
     "output_type": "execute_result"
    }
   ],
   "source": [
    "df_model = pd.DataFrame(columns=['age', 'disp_income', 'family_size', 'premium_sub', \n",
    "                                 'post_spend', 'vertical_interest'])\n",
    "df_model.head()"
   ]
  },
  {
   "cell_type": "code",
   "execution_count": 7,
   "id": "4e44d43c-e233-48a3-8af6-d8fb2b60a3df",
   "metadata": {
    "execution": {
     "iopub.execute_input": "2023-10-10T17:39:24.140791Z",
     "iopub.status.busy": "2023-10-10T17:39:24.140264Z",
     "iopub.status.idle": "2023-10-10T17:39:25.245572Z",
     "shell.execute_reply": "2023-10-10T17:39:25.244016Z",
     "shell.execute_reply.started": "2023-10-10T17:39:24.140704Z"
    },
    "tags": []
   },
   "outputs": [
    {
     "data": {
      "image/png": "[encoded data removed]",
      "text/plain": [
       "<Figure size 576x432 with 1 Axes>"
      ]
     },
     "metadata": {},
     "output_type": "display_data"
    }
   ],
   "source": [
    "# Define a CausalModel object in DoWhy, indicate treatment & outcome\n",
    "model= CausalModel(data=df_model, # data columns\n",
    "        graph=causal_graph, # DAG\n",
    "        treatment='premium_sub', # cause of interest, X\n",
    "        outcome='post_spend') # outcome, Y\n",
    "model.view_model()"
   ]
  },
  {
   "cell_type": "markdown",
   "id": "91842a9a-8a8c-42e7-be78-40163aff0155",
   "metadata": {},
   "source": [
    "Other ways to visualise DAG:\n",
    " * networkX Python library\n",
    " * [DAGitty](https://www.dagitty.net/dags.html#) interactive web tool\n",
    " \n",
    " \n",
    "\n",
    "**We now have the DAG, can run identification on it to see what should adjust for.**"
   ]
  },
  {
   "cell_type": "markdown",
   "id": "8dfa3e5b-0524-499a-8eec-cd755687d98d",
   "metadata": {},
   "source": [
    "# 2. Identification"
   ]
  },
  {
   "cell_type": "code",
   "execution_count": 8,
   "id": "427b0ffc-1cfb-47e9-a471-4ac681d1ab35",
   "metadata": {
    "execution": {
     "iopub.execute_input": "2023-10-10T17:39:25.248382Z",
     "iopub.status.busy": "2023-10-10T17:39:25.248032Z",
     "iopub.status.idle": "2023-10-10T17:39:25.284658Z",
     "shell.execute_reply": "2023-10-10T17:39:25.283157Z",
     "shell.execute_reply.started": "2023-10-10T17:39:25.248329Z"
    },
    "tags": []
   },
   "outputs": [
    {
     "name": "stdout",
     "output_type": "stream",
     "text": [
      "Estimand type: nonparametric-ate\n",
      "\n",
      "### Estimand : 1\n",
      "Estimand name: backdoor\n",
      "Estimand expression:\n",
      "      d                                                                       \n",
      "──────────────(Expectation(post_spend|vertical_interest,disp_income,family_siz\n",
      "d[premium_sub]                                                                \n",
      "\n",
      "       \n",
      "e,age))\n",
      "       \n",
      "Estimand assumption 1, Unconfoundedness: If U→{premium_sub} and U→post_spend then P(post_spend|premium_sub,vertical_interest,disp_income,family_size,age,U) = P(post_spend|premium_sub,vertical_interest,disp_income,family_size,age)\n",
      "\n",
      "### Estimand : 2\n",
      "Estimand name: iv\n",
      "No such variable(s) found!\n",
      "\n",
      "### Estimand : 3\n",
      "Estimand name: frontdoor\n",
      "No such variable(s) found!\n",
      "\n"
     ]
    }
   ],
   "source": [
    "# Identify the causal effect\n",
    "\n",
    "estimands = model.identify_effect(proceed_when_unidentifiable=True)\n",
    "print(estimands)"
   ]
  },
  {
   "cell_type": "markdown",
   "id": "40b4cd99-7d88-4c27-8ca9-20c0b4fddb4e",
   "metadata": {
    "execution": {
     "iopub.execute_input": "2023-10-06T10:40:37.953725Z",
     "iopub.status.busy": "2023-10-06T10:40:37.952947Z",
     "iopub.status.idle": "2023-10-06T10:40:37.974506Z",
     "shell.execute_reply": "2023-10-06T10:40:37.971315Z",
     "shell.execute_reply.started": "2023-10-06T10:40:37.953627Z"
    }
   },
   "source": [
    "**We now know what variables we should adjust for, can proceed to estimation.**"
   ]
  },
  {
   "cell_type": "markdown",
   "id": "f7b2c14e-d983-4920-b316-275fbf0b7160",
   "metadata": {
    "execution": {
     "iopub.execute_input": "2023-09-28T10:49:27.299570Z",
     "iopub.status.busy": "2023-09-28T10:49:27.298751Z",
     "iopub.status.idle": "2023-09-28T10:49:27.309799Z",
     "shell.execute_reply": "2023-09-28T10:49:27.307023Z",
     "shell.execute_reply.started": "2023-09-28T10:49:27.299469Z"
    },
    "tags": []
   },
   "source": [
    "# Before estimation: The data"
   ]
  },
  {
   "cell_type": "markdown",
   "id": "1deaea65-c3dc-4f62-b776-83a9ff435e66",
   "metadata": {},
   "source": [
    "Having drawn out our view of how the world works (the DAG), and figured out via identification the available estimands (backdoor here), and what we should adjust for, we now look at our data to see whether it contains good measures for all variables in our minimal adjustment set. Construct valilidity, operationalisation.\n",
    "\n",
    "Having inspected our data, let's say we find it does contain adequate-looking measures (or proxies) for all variables in the minimal deconfounding set*:\n",
    "* **disposable income**: a binary **`affluence`** segementation\n",
    "* **family size**: number of children under the age of 18 at that househould, **`num_child_u18`**\n",
    "* **interest in vericals**: **`vertical_frac`**, % of previous spend on verticals -- being an existing customer may indicate continued interest in the future, in proportion to previous spend\n",
    "* **age**: measured in years in column **`age`**\n",
    "\n",
    "(* If a dataset does _not_ contain good measures for all varaibles in the min. deconfounding set: the causal effect of interest is _not identifiable_ based on this data. Cannot make causal claims, as cannot remove confounding. So either try to get data on unobserved variables/ do not make causal claims/ try sensitivity analysis to bound size of remaining bias from these unmeasured confounders, requires extra assumptions -- more in the validation/refutation section below)\n",
    "\n",
    "The data also contains these columns for X and Y:\n",
    "- **X** measured in **`premium_sub`:**  1 for customers who join the premium subscription, 0 for those who don't \n",
    "- **Y** measured in **`post_spend`:** aggregate spend (in £) in the 12 months after the window of opportunity to subscribe to the scheme or not, for each given window.\n",
    "\n",
    "We now load & inspect our data:\n",
    "* Columns for the above causal variables. \n",
    "* One row per household -- max 1 subscription possible per household:"
   ]
  },
  {
   "cell_type": "code",
   "execution_count": 9,
   "id": "c3b30c89-4407-4a2c-96ee-199c6b3758a6",
   "metadata": {
    "execution": {
     "iopub.execute_input": "2023-10-10T17:39:25.290407Z",
     "iopub.status.busy": "2023-10-10T17:39:25.290050Z",
     "iopub.status.idle": "2023-10-10T17:39:25.344244Z",
     "shell.execute_reply": "2023-10-10T17:39:25.343115Z",
     "shell.execute_reply.started": "2023-10-10T17:39:25.290350Z"
    },
    "tags": []
   },
   "outputs": [
    {
     "data": {
      "text/html": [
       "<div>\n",
       "<style scoped>\n",
       "    .dataframe tbody tr th:only-of-type {\n",
       "        vertical-align: middle;\n",
       "    }\n",
       "\n",
       "    .dataframe tbody tr th {\n",
       "        vertical-align: top;\n",
       "    }\n",
       "\n",
       "    .dataframe thead th {\n",
       "        text-align: right;\n",
       "    }\n",
       "</style>\n",
       "<table border=\"1\" class=\"dataframe\">\n",
       "  <thead>\n",
       "    <tr style=\"text-align: right;\">\n",
       "      <th></th>\n",
       "      <th>age</th>\n",
       "      <th>affluence</th>\n",
       "      <th>num_child_u18</th>\n",
       "      <th>vertical_frac</th>\n",
       "      <th>post_spend</th>\n",
       "      <th>premium_sub</th>\n",
       "    </tr>\n",
       "  </thead>\n",
       "  <tbody>\n",
       "    <tr>\n",
       "      <th>0</th>\n",
       "      <td>31</td>\n",
       "      <td>1</td>\n",
       "      <td>1</td>\n",
       "      <td>0.11</td>\n",
       "      <td>1723.96</td>\n",
       "      <td>0</td>\n",
       "    </tr>\n",
       "    <tr>\n",
       "      <th>1</th>\n",
       "      <td>76</td>\n",
       "      <td>0</td>\n",
       "      <td>0</td>\n",
       "      <td>0.02</td>\n",
       "      <td>2144.16</td>\n",
       "      <td>0</td>\n",
       "    </tr>\n",
       "    <tr>\n",
       "      <th>2</th>\n",
       "      <td>50</td>\n",
       "      <td>0</td>\n",
       "      <td>1</td>\n",
       "      <td>0.15</td>\n",
       "      <td>457.00</td>\n",
       "      <td>0</td>\n",
       "    </tr>\n",
       "    <tr>\n",
       "      <th>3</th>\n",
       "      <td>42</td>\n",
       "      <td>0</td>\n",
       "      <td>5</td>\n",
       "      <td>0.05</td>\n",
       "      <td>7373.70</td>\n",
       "      <td>0</td>\n",
       "    </tr>\n",
       "    <tr>\n",
       "      <th>4</th>\n",
       "      <td>48</td>\n",
       "      <td>1</td>\n",
       "      <td>6</td>\n",
       "      <td>0.11</td>\n",
       "      <td>742.11</td>\n",
       "      <td>1</td>\n",
       "    </tr>\n",
       "  </tbody>\n",
       "</table>\n",
       "</div>"
      ],
      "text/plain": [
       "   age  affluence  num_child_u18  vertical_frac  post_spend  premium_sub\n",
       "0   31          1              1           0.11     1723.96            0\n",
       "1   76          0              0           0.02     2144.16            0\n",
       "2   50          0              1           0.15      457.00            0\n",
       "3   42          0              5           0.05     7373.70            0\n",
       "4   48          1              6           0.11      742.11            1"
      ]
     },
     "execution_count": 9,
     "metadata": {},
     "output_type": "execute_result"
    }
   ],
   "source": [
    "import pandas as pd\n",
    "df = pd.read_csv('full_data.csv')\n",
    "df.head()"
   ]
  },
  {
   "cell_type": "markdown",
   "id": "0eaf4b40-9774-48c3-9075-9e7b6415bcab",
   "metadata": {
    "execution": {
     "iopub.execute_input": "2023-09-29T13:46:52.721334Z",
     "iopub.status.busy": "2023-09-29T13:46:52.720543Z",
     "iopub.status.idle": "2023-09-29T13:46:52.739456Z",
     "shell.execute_reply": "2023-09-29T13:46:52.735063Z",
     "shell.execute_reply.started": "2023-09-29T13:46:52.721228Z"
    }
   },
   "source": [
    "Now, make variable measure names in dataset match variable names in the DAG -- `CausalModel`'s `graph` parameter, replace variable names by their measure names:"
   ]
  },
  {
   "cell_type": "code",
   "execution_count": 10,
   "id": "7474727f-0be4-436c-a698-122a23ad0b04",
   "metadata": {
    "execution": {
     "iopub.execute_input": "2023-10-10T17:39:25.348171Z",
     "iopub.status.busy": "2023-10-10T17:39:25.347811Z",
     "iopub.status.idle": "2023-10-10T17:39:26.483940Z",
     "shell.execute_reply": "2023-10-10T17:39:26.482723Z",
     "shell.execute_reply.started": "2023-10-10T17:39:25.348119Z"
    },
    "tags": []
   },
   "outputs": [
    {
     "data": {
      "image/png": "[encoded data removed]",
      "text/plain": [
       "<Figure size 576x432 with 1 Axes>"
      ]
     },
     "metadata": {},
     "output_type": "display_data"
    }
   ],
   "source": [
    "# Identify the causal effect\n",
    "\n",
    "# Digraph Syntax\n",
    "causal_graph = \"\"\"\n",
    "digraph {\n",
    "age -> affluence; age -> vertical_frac; age -> num_child_u18;\n",
    "age -> premium_sub; age -> post_spend;\n",
    "affluence -> vertical_frac; affluence -> num_child_u18;\n",
    "affluence -> premium_sub; affluence -> post_spend;\n",
    "num_child_u18 -> vertical_frac; num_child_u18 -> premium_sub;\n",
    "num_child_u18 -> post_spend;\n",
    "vertical_frac -> premium_sub; vertical_frac -> post_spend;\n",
    "premium_sub -> post_spend;\n",
    "}\n",
    "\"\"\"\n",
    "model= CausalModel(data=df, # actual dataset now\n",
    "        graph=causal_graph,\n",
    "        treatment='premium_sub',\n",
    "        outcome='post_spend')\n",
    "model.view_model()\n"
   ]
  },
  {
   "cell_type": "code",
   "execution_count": 11,
   "id": "ef58e8a4-fcea-4ab4-b3e5-3aa66504b947",
   "metadata": {
    "execution": {
     "iopub.execute_input": "2023-10-10T17:39:26.486566Z",
     "iopub.status.busy": "2023-10-10T17:39:26.486227Z",
     "iopub.status.idle": "2023-10-10T17:39:26.513386Z",
     "shell.execute_reply": "2023-10-10T17:39:26.511278Z",
     "shell.execute_reply.started": "2023-10-10T17:39:26.486515Z"
    },
    "tags": []
   },
   "outputs": [
    {
     "name": "stdout",
     "output_type": "stream",
     "text": [
      "Estimand type: nonparametric-ate\n",
      "\n",
      "### Estimand : 1\n",
      "Estimand name: backdoor\n",
      "Estimand expression:\n",
      "      d                                                                       \n",
      "──────────────(Expectation(post_spend|num_child_u18,affluence,age,vertical_fra\n",
      "d[premium_sub]                                                                \n",
      "\n",
      "   \n",
      "c))\n",
      "   \n",
      "Estimand assumption 1, Unconfoundedness: If U→{premium_sub} and U→post_spend then P(post_spend|premium_sub,num_child_u18,affluence,age,vertical_frac,U) = P(post_spend|premium_sub,num_child_u18,affluence,age,vertical_frac)\n",
      "\n",
      "### Estimand : 2\n",
      "Estimand name: iv\n",
      "No such variable(s) found!\n",
      "\n",
      "### Estimand : 3\n",
      "Estimand name: frontdoor\n",
      "No such variable(s) found!\n",
      "\n"
     ]
    }
   ],
   "source": [
    "estimands = model.identify_effect()\n",
    "print(estimands)"
   ]
  },
  {
   "cell_type": "markdown",
   "id": "ad7625f7-3200-4c20-b20b-c66cbf3924d8",
   "metadata": {},
   "source": [
    "**Now that we've found adequate measures in our data for all variables in the minimal deconfounding set, and used this data of these measures in our DAG and identification step, we can do estimation.**"
   ]
  },
  {
   "cell_type": "markdown",
   "id": "85adef22-1258-41ab-81ee-c62620399972",
   "metadata": {
    "execution": {
     "iopub.execute_input": "2023-09-28T11:06:44.811541Z",
     "iopub.status.busy": "2023-09-28T11:06:44.811099Z",
     "iopub.status.idle": "2023-09-28T11:06:44.816840Z",
     "shell.execute_reply": "2023-09-28T11:06:44.815696Z",
     "shell.execute_reply.started": "2023-09-28T11:06:44.811490Z"
    }
   },
   "source": [
    "# 3. Estimation\n",
    "DoWhy implements some estimation methods:"
   ]
  },
  {
   "cell_type": "code",
   "execution_count": 12,
   "id": "e87db430-0ead-435b-aed2-755e8ad2326b",
   "metadata": {
    "execution": {
     "iopub.execute_input": "2023-10-10T17:39:26.516052Z",
     "iopub.status.busy": "2023-10-10T17:39:26.515708Z",
     "iopub.status.idle": "2023-10-10T17:39:27.109037Z",
     "shell.execute_reply": "2023-10-10T17:39:27.107574Z",
     "shell.execute_reply.started": "2023-10-10T17:39:26.516005Z"
    },
    "tags": []
   },
   "outputs": [
    {
     "name": "stdout",
     "output_type": "stream",
     "text": [
      "linear_regression\n",
      "{'control_value': 0, 'treatment_value': 1, 'test_significance': True, 'evaluate_effect_strength': False, 'confidence_intervals': True, 'target_units': 'ate', 'effect_modifiers': []}\n",
      "*** Causal Estimate ***\n",
      "\n",
      "## Identified estimand\n",
      "Estimand type: nonparametric-ate\n",
      "\n",
      "### Estimand : 1\n",
      "Estimand name: backdoor\n",
      "Estimand expression:\n",
      "      d                                                                       \n",
      "──────────────(Expectation(post_spend|num_child_u18,affluence,age,vertical_fra\n",
      "d[premium_sub]                                                                \n",
      "\n",
      "   \n",
      "c))\n",
      "   \n",
      "Estimand assumption 1, Unconfoundedness: If U→{premium_sub} and U→post_spend then P(post_spend|premium_sub,num_child_u18,affluence,age,vertical_frac,U) = P(post_spend|premium_sub,num_child_u18,affluence,age,vertical_frac)\n",
      "\n",
      "## Realized estimand\n",
      "b: post_spend~premium_sub+num_child_u18+affluence+age+vertical_frac\n",
      "Target units: ate\n",
      "\n",
      "## Estimate\n",
      "Mean value: 555.9003475909958\n",
      "p-value: [2.60024816e-29]\n",
      "95.0% confidence interval: [[459.14064275 652.66005243]]\n",
      "\n"
     ]
    }
   ],
   "source": [
    "estimate = model.estimate_effect(estimands,\n",
    "                                 method_name=\"backdoor.linear_regression\",\n",
    "                                 effect_modifiers= [],\n",
    "                                 confidence_intervals=True,\n",
    "                                 test_significance=True)\n",
    "print(estimate)"
   ]
  },
  {
   "cell_type": "code",
   "execution_count": 13,
   "id": "94b7b0f5-3422-4abe-b84d-1adf42423e09",
   "metadata": {
    "execution": {
     "iopub.execute_input": "2023-10-10T17:39:27.111754Z",
     "iopub.status.busy": "2023-10-10T17:39:27.111402Z",
     "iopub.status.idle": "2023-10-10T17:39:27.126130Z",
     "shell.execute_reply": "2023-10-10T17:39:27.124683Z",
     "shell.execute_reply.started": "2023-10-10T17:39:27.111702Z"
    }
   },
   "outputs": [
    {
     "name": "stdout",
     "output_type": "stream",
     "text": [
      "Increasing the treatment variable(s) [premium_sub] from 0 to 1 causes an increase of 555.9003475909958 in the expected value of the outcome [post_spend], over the data distribution/population represented by the dataset.\n"
     ]
    }
   ],
   "source": [
    "estimate.interpret()"
   ]
  },
  {
   "cell_type": "markdown",
   "id": "2926930d-687d-48fd-8575-feef435ebe39",
   "metadata": {
    "execution": {
     "iopub.execute_input": "2023-10-05T16:54:49.306389Z",
     "iopub.status.busy": "2023-10-05T16:54:49.305595Z",
     "iopub.status.idle": "2023-10-05T16:54:49.325750Z",
     "shell.execute_reply": "2023-10-05T16:54:49.321800Z",
     "shell.execute_reply.started": "2023-10-05T16:54:49.306288Z"
    }
   },
   "source": [
    "So joining this premium subscription programme has a causal effect of spending £555.9 more at this retailer over the next 12 months. (Synthetic data)"
   ]
  },
  {
   "cell_type": "markdown",
   "id": "ac6ccd97-a36c-4e14-a1e0-0664d0a79f67",
   "metadata": {},
   "source": [
    "### Standard Python libraries also apply for estimation\n",
    "Can use statsmodels, or sklearn (tree-based, with partial dependence plots for coefficients equivalents).\n",
    "\n",
    "E.g. statsmodels OLS. We get the exact same results as with the DoWhy OLS estimation."
   ]
  },
  {
   "cell_type": "code",
   "execution_count": 14,
   "id": "e5eebf57-621f-45b4-898f-616757f63d5a",
   "metadata": {
    "execution": {
     "iopub.execute_input": "2023-10-10T17:39:27.128481Z",
     "iopub.status.busy": "2023-10-10T17:39:27.128156Z",
     "iopub.status.idle": "2023-10-10T17:39:27.142798Z",
     "shell.execute_reply": "2023-10-10T17:39:27.138786Z",
     "shell.execute_reply.started": "2023-10-10T17:39:27.128434Z"
    },
    "tags": []
   },
   "outputs": [],
   "source": [
    "import statsmodels.formula.api as smf"
   ]
  },
  {
   "cell_type": "code",
   "execution_count": 15,
   "id": "ecaf7d2d-4ef1-4ddd-972a-3110d6561ecb",
   "metadata": {
    "execution": {
     "iopub.execute_input": "2023-10-10T17:39:27.145129Z",
     "iopub.status.busy": "2023-10-10T17:39:27.144792Z",
     "iopub.status.idle": "2023-10-10T17:39:27.223746Z",
     "shell.execute_reply": "2023-10-10T17:39:27.222112Z",
     "shell.execute_reply.started": "2023-10-10T17:39:27.145082Z"
    },
    "tags": []
   },
   "outputs": [
    {
     "name": "stdout",
     "output_type": "stream",
     "text": [
      "Effect of premium sub: \n",
      " coeff: \t 555.9003475909925 \n",
      " p value: \t 2.6002481581378363e-29 \n",
      " 95% C.I.s: \t [459.14064275 652.66005243]\n"
     ]
    }
   ],
   "source": [
    "reg_model_all = smf.ols(formula='post_spend ~ premium_sub + vertical_frac + age + affluence + num_child_u18', data = df)\n",
    "ols_all = reg_model_all.fit()\n",
    "print('Effect of premium sub: \\n coeff: \\t', ols_all.params['premium_sub'], \n",
    "      '\\n p value: \\t', ols_all.pvalues.loc['premium_sub'], \n",
    "     '\\n 95% C.I.s: \\t', ols_all.conf_int(alpha = 0.05).loc['premium_sub'].values)"
   ]
  },
  {
   "cell_type": "markdown",
   "id": "4906dab7-d765-4809-8bc7-47bc37586e68",
   "metadata": {},
   "source": [
    "## *Confounding bias, Simpson's paradox*"
   ]
  },
  {
   "cell_type": "markdown",
   "id": "c6f54536-af1b-4f52-bd3f-975efd2af69a",
   "metadata": {},
   "source": [
    "In this case, we had to control for everything.  *Not* a general rule:\n",
    "* must not control for colliders, bias (more below); \n",
    "* computationally inefficient to control for confounders not in the minimal set\n"
   ]
  },
  {
   "cell_type": "markdown",
   "id": "f3ed1c0b-3de2-4a63-b915-8ca9b084e3a3",
   "metadata": {
    "tags": []
   },
   "source": [
    "E.g. if we don't have data for some/ all of the varablies in the minimal deconfounding set, cannot adjust for them in the estimation model. Some confounding bias will remain, effect not guaranteed to be the same or close to the unbiased one. \n",
    "\n",
    "#### Some scenarios:"
   ]
  },
  {
   "cell_type": "markdown",
   "id": "0ce4385e-311e-4988-b65e-cabc61e552bf",
   "metadata": {
    "execution": {
     "iopub.execute_input": "2023-10-05T15:47:37.362324Z",
     "iopub.status.busy": "2023-10-05T15:47:37.361554Z",
     "iopub.status.idle": "2023-10-05T15:47:37.372999Z",
     "shell.execute_reply": "2023-10-05T15:47:37.369921Z",
     "shell.execute_reply.started": "2023-10-05T15:47:37.362227Z"
    }
   },
   "source": [
    "#### *a. Unobserved: all confounders*"
   ]
  },
  {
   "cell_type": "code",
   "execution_count": 16,
   "id": "aa8e2a87-8a4e-4ff3-bb3e-75293567cdaa",
   "metadata": {
    "execution": {
     "iopub.execute_input": "2023-10-10T17:39:27.227358Z",
     "iopub.status.busy": "2023-10-10T17:39:27.226526Z",
     "iopub.status.idle": "2023-10-10T17:39:27.255336Z",
     "shell.execute_reply": "2023-10-10T17:39:27.253654Z",
     "shell.execute_reply.started": "2023-10-10T17:39:27.227303Z"
    },
    "tags": []
   },
   "outputs": [
    {
     "name": "stdout",
     "output_type": "stream",
     "text": [
      "1097.9085781224944\n"
     ]
    }
   ],
   "source": [
    "# Unadjusted estimate is confounded\n",
    "reg_model = smf.ols(formula='post_spend ~ premium_sub', data = df)\n",
    "ols = reg_model.fit()\n",
    "print(ols.params[\"premium_sub\"])"
   ]
  },
  {
   "cell_type": "markdown",
   "id": "0b0d1139-f5cf-4e8c-8487-f80de6c41be8",
   "metadata": {
    "execution": {
     "iopub.execute_input": "2023-09-28T11:29:24.941634Z",
     "iopub.status.busy": "2023-09-28T11:29:24.940781Z",
     "iopub.status.idle": "2023-09-28T11:29:24.957546Z",
     "shell.execute_reply": "2023-09-28T11:29:24.954201Z",
     "shell.execute_reply.started": "2023-09-28T11:29:24.941534Z"
    }
   },
   "source": [
    "Estimate way off, overestimates effect by almost 2x -- confounding bias is very large."
   ]
  },
  {
   "cell_type": "markdown",
   "id": "54a5be9c-5fb1-410e-a01f-5e96c10dd49a",
   "metadata": {},
   "source": [
    "#### *b. Unobserved: age, num_child_u18*"
   ]
  },
  {
   "cell_type": "code",
   "execution_count": 17,
   "id": "43bcc7a5-c68e-42bf-9879-a98d93faf127",
   "metadata": {
    "execution": {
     "iopub.execute_input": "2023-10-10T17:39:27.257949Z",
     "iopub.status.busy": "2023-10-10T17:39:27.257600Z",
     "iopub.status.idle": "2023-10-10T17:39:27.299434Z",
     "shell.execute_reply": "2023-10-10T17:39:27.294881Z",
     "shell.execute_reply.started": "2023-10-10T17:39:27.257886Z"
    },
    "tags": []
   },
   "outputs": [
    {
     "name": "stdout",
     "output_type": "stream",
     "text": [
      "Effect of premium sub: \n",
      " coeff: \t 642.2524825036953 \n",
      " p value: \t 1.5286533516181535e-39 \n",
      " 95% C.I.s: \t [546.82690115 737.67806386]\n"
     ]
    }
   ],
   "source": [
    "reg_model_some = smf.ols(formula='post_spend ~ premium_sub + vertical_frac + affluence', data = df)\n",
    "ols_some = reg_model_some.fit()\n",
    "\n",
    "print('Effect of premium sub: \\n coeff: \\t', ols_some.params['premium_sub'], \n",
    "      '\\n p value: \\t', ols_some.pvalues.loc['premium_sub'], \n",
    "     '\\n 95% C.I.s: \\t', ols_some.conf_int(alpha = 0.05).loc['premium_sub'].values)"
   ]
  },
  {
   "cell_type": "markdown",
   "id": "97f9847f-7cac-431d-91b0-3c25e6de93f8",
   "metadata": {
    "execution": {
     "iopub.execute_input": "2023-09-28T11:40:49.060595Z",
     "iopub.status.busy": "2023-09-28T11:40:49.059513Z",
     "iopub.status.idle": "2023-09-28T11:40:49.079948Z",
     "shell.execute_reply": "2023-09-28T11:40:49.075793Z",
     "shell.execute_reply.started": "2023-09-28T11:40:49.060483Z"
    }
   },
   "source": [
    "Estimate is off again, now by a factor of 1.15."
   ]
  },
  {
   "cell_type": "markdown",
   "id": "f4c1eee6-cfa7-4e63-8518-4131bce4da99",
   "metadata": {
    "execution": {
     "iopub.execute_input": "2023-09-28T11:44:19.219207Z",
     "iopub.status.busy": "2023-09-28T11:44:19.218362Z",
     "iopub.status.idle": "2023-09-28T11:44:19.234265Z",
     "shell.execute_reply": "2023-09-28T11:44:19.230600Z",
     "shell.execute_reply.started": "2023-09-28T11:44:19.219078Z"
    }
   },
   "source": [
    "#### *c. Unobserved: age, num_child_u18, __& affluence__*"
   ]
  },
  {
   "cell_type": "code",
   "execution_count": 18,
   "id": "0abc1002-5ed7-41d8-a7cc-3092210d3bd5",
   "metadata": {
    "execution": {
     "iopub.execute_input": "2023-10-10T17:39:27.302206Z",
     "iopub.status.busy": "2023-10-10T17:39:27.301857Z",
     "iopub.status.idle": "2023-10-10T17:39:27.349664Z",
     "shell.execute_reply": "2023-10-10T17:39:27.348209Z",
     "shell.execute_reply.started": "2023-10-10T17:39:27.302159Z"
    },
    "tags": []
   },
   "outputs": [
    {
     "name": "stdout",
     "output_type": "stream",
     "text": [
      "Effect of premium sub: \n",
      " coeff: \t 1097.9103163047 \n",
      " p value: \t 6.418127339061289e-168 \n",
      " 95% C.I.s: \t [1020.87911911 1174.9415135 ]\n"
     ]
    }
   ],
   "source": [
    "reg_model_some2 = smf.ols(formula='post_spend ~ premium_sub + vertical_frac', data = df)\n",
    "ols_some2 = reg_model_some2.fit()\n",
    "\n",
    "print('Effect of premium sub: \\n coeff: \\t', ols_some2.params['premium_sub'], \n",
    "      '\\n p value: \\t', ols_some2.pvalues.loc['premium_sub'], \n",
    "     '\\n 95% C.I.s: \\t', ols_some2.conf_int(alpha = 0.05).loc['premium_sub'].values)\n"
   ]
  },
  {
   "cell_type": "markdown",
   "id": "8611e766-63ad-416c-97fd-325462973890",
   "metadata": {},
   "source": [
    "Estimate is way off again, again by almost a factor of 2."
   ]
  },
  {
   "cell_type": "markdown",
   "id": "48059b75-a5af-4162-b3d2-cc49f2190248",
   "metadata": {
    "tags": []
   },
   "source": [
    "## *Collider bias, Berkson's paradox*\n",
    "* The case against throwing all variables as inputs into the model.\n",
    "* Same DAG.\n",
    "* Now want the effect of *age* on spend, and we still have data on the other variables.\n",
    "* Now: no confounders, no arrows into age, no common causes possible between it and spend.  Thus, regressing `post_spend` only on `age` would give the correct causal estimate."
   ]
  },
  {
   "cell_type": "code",
   "execution_count": 20,
   "id": "55a3420f-5cca-4f26-ad36-a8adccb60dec",
   "metadata": {
    "execution": {
     "iopub.execute_input": "2023-10-10T17:39:40.325009Z",
     "iopub.status.busy": "2023-10-10T17:39:40.324098Z",
     "iopub.status.idle": "2023-10-10T17:39:41.332644Z",
     "shell.execute_reply": "2023-10-10T17:39:41.330359Z",
     "shell.execute_reply.started": "2023-10-10T17:39:40.324881Z"
    },
    "tags": []
   },
   "outputs": [
    {
     "data": {
      "image/png": "[encoded data removed]",
      "text/plain": [
       "<Figure size 576x432 with 1 Axes>"
      ]
     },
     "metadata": {},
     "output_type": "display_data"
    }
   ],
   "source": [
    "model_age= CausalModel(data=df,\n",
    "        graph=causal_graph,\n",
    "        treatment='age',# different X now\n",
    "        outcome='post_spend')\n",
    "model_age.view_model()\n"
   ]
  },
  {
   "cell_type": "code",
   "execution_count": 21,
   "id": "885c7c98-9ee5-4a33-a8ea-f2dd3ab98fd9",
   "metadata": {
    "execution": {
     "iopub.execute_input": "2023-10-10T17:39:41.336143Z",
     "iopub.status.busy": "2023-10-10T17:39:41.335788Z",
     "iopub.status.idle": "2023-10-10T17:39:41.438903Z",
     "shell.execute_reply": "2023-10-10T17:39:41.437344Z",
     "shell.execute_reply.started": "2023-10-10T17:39:41.336092Z"
    },
    "tags": []
   },
   "outputs": [
    {
     "name": "stdout",
     "output_type": "stream",
     "text": [
      "linear_regression\n",
      "{'control_value': 0, 'treatment_value': 1, 'test_significance': True, 'evaluate_effect_strength': False, 'confidence_intervals': True, 'target_units': 'ate', 'effect_modifiers': []}\n",
      "*** Causal Estimate ***\n",
      "\n",
      "## Identified estimand\n",
      "Estimand type: nonparametric-ate\n",
      "\n",
      "### Estimand : 1\n",
      "Estimand name: backdoor\n",
      "Estimand expression:\n",
      "  d                            \n",
      "──────(Expectation(post_spend))\n",
      "d[age]                         \n",
      "Estimand assumption 1, Unconfoundedness: If U→{age} and U→post_spend then P(post_spend|age,,U) = P(post_spend|age,)\n",
      "\n",
      "## Realized estimand\n",
      "b: post_spend~age\n",
      "Target units: ate\n",
      "\n",
      "## Estimate\n",
      "Mean value: 16.514473672870963\n",
      "p-value: [4.48957132e-85]\n",
      "95.0% confidence interval: [[14.86778215 18.1611652 ]]\n",
      "\n"
     ]
    }
   ],
   "source": [
    "# 2. Identify\n",
    "estimands_age = model_age.identify_effect()\n",
    "# 3. Estimate\n",
    "estimate_age = model_age.estimate_effect(estimands_age,\n",
    "                                 method_name=\"backdoor.linear_regression\",\n",
    "                                 confidence_intervals=True,\n",
    "                                 test_significance=True)\n",
    "print(estimate_age)"
   ]
  },
  {
   "cell_type": "markdown",
   "id": "94e70488-cb74-4ec8-a549-bed14e7196b4",
   "metadata": {
    "execution": {
     "iopub.execute_input": "2023-09-28T11:50:14.150922Z",
     "iopub.status.busy": "2023-09-28T11:50:14.149798Z",
     "iopub.status.idle": "2023-09-28T11:50:14.174322Z",
     "shell.execute_reply": "2023-09-28T11:50:14.170061Z",
     "shell.execute_reply.started": "2023-09-28T11:50:14.150812Z"
    }
   },
   "source": [
    "What if we adjust for some of the other variables? \n",
    "\n",
    "DAG shows there are 3 colliders: `premium_sub`, `vertical_frac`, and `num_child_u18` are colliders on the paths between `age` and `post_spend`. \n",
    "e.g.  \n",
    "* `num_child_u18` is a collider on the path: `age` --> `num_child_u18` <-- `affluence` --> `post_spend`\n",
    "* `vertical_frac` is a collider on the path: `age` --> `vertical_frac` <-- `num_child_u18` --> `post_spend`\n",
    "\n",
    "\n",
    "If we adjust for any, or all, of them, we will introduce collider bias into the estimate. \n",
    "For example, \n",
    "\n",
    "#### *a. Erroneously adjust for ALL colliders*"
   ]
  },
  {
   "cell_type": "code",
   "execution_count": 22,
   "id": "54a4ffcc-286b-401e-9e40-1cda04f1e06d",
   "metadata": {
    "execution": {
     "iopub.execute_input": "2023-10-10T17:39:41.446236Z",
     "iopub.status.busy": "2023-10-10T17:39:41.445867Z",
     "iopub.status.idle": "2023-10-10T17:39:41.509997Z",
     "shell.execute_reply": "2023-10-10T17:39:41.508364Z",
     "shell.execute_reply.started": "2023-10-10T17:39:41.446185Z"
    },
    "tags": []
   },
   "outputs": [
    {
     "name": "stdout",
     "output_type": "stream",
     "text": [
      "Effect of age: \n",
      " coeff: \t 13.523374963177083 \n",
      " p value: \t 7.789530825371502e-48 \n",
      " 95% C.I.s: \t [11.70485859 15.34189134]\n"
     ]
    }
   ],
   "source": [
    "# ATE OF AGE on SPEND - erroneously adjust for ALL others, colliders\n",
    "reg_age2 = smf.ols(formula='post_spend ~ age + premium_sub + vertical_frac + num_child_u18 ', data = df)\n",
    "ols_age2 = reg_age2.fit()\n",
    "print('Effect of age: \\n coeff: \\t', ols_age2.params['age'], \n",
    "      '\\n p value: \\t', ols_age2.pvalues.loc['age'], \n",
    "     '\\n 95% C.I.s: \\t', ols_age2.conf_int(alpha = 0.05).loc['age'].values)"
   ]
  },
  {
   "cell_type": "markdown",
   "id": "a323d12e-0442-4c0d-b573-d370db182cd4",
   "metadata": {},
   "source": [
    "Substantially different, biased, estimate -- 18% lower than the correct estimate of 16.5."
   ]
  },
  {
   "cell_type": "markdown",
   "id": "3e5e3e88-831a-4f55-bf8f-16a469181f86",
   "metadata": {
    "execution": {
     "iopub.execute_input": "2023-09-28T12:02:23.756192Z",
     "iopub.status.busy": "2023-09-28T12:02:23.755273Z",
     "iopub.status.idle": "2023-09-28T12:02:23.773844Z",
     "shell.execute_reply": "2023-09-28T12:02:23.769927Z",
     "shell.execute_reply.started": "2023-09-28T12:02:23.756066Z"
    }
   },
   "source": [
    "#### *b. Erroneously adjust for SOME colliders: unobserved num_child_u18*\n",
    "Assume the `num_child_u18` collider is unmeasured, adjust for all others which are measured."
   ]
  },
  {
   "cell_type": "code",
   "execution_count": 23,
   "id": "6772705e-bbed-4ab1-848b-5ad939634c24",
   "metadata": {
    "execution": {
     "iopub.execute_input": "2023-10-10T17:39:41.518371Z",
     "iopub.status.busy": "2023-10-10T17:39:41.517889Z",
     "iopub.status.idle": "2023-10-10T17:39:41.581631Z",
     "shell.execute_reply": "2023-10-10T17:39:41.577959Z",
     "shell.execute_reply.started": "2023-10-10T17:39:41.518320Z"
    },
    "tags": []
   },
   "outputs": [
    {
     "name": "stdout",
     "output_type": "stream",
     "text": [
      "Effect of age: \n",
      " coeff: \t 11.13673765674627 \n",
      " p value: \t 3.3131038736435847e-38 \n",
      " 95% C.I.s: \t [ 9.45186578 12.82160953]\n"
     ]
    }
   ],
   "source": [
    "# ATE OF AGE on SPEND - erroneously adjust for ALL others, colliders\n",
    "reg_age3 = smf.ols(formula='post_spend ~ age + premium_sub + vertical_frac ', data = df)\n",
    "ols_age3 = reg_age3.fit()\n",
    "print('Effect of age: \\n coeff: \\t', ols_age3.params['age'], \n",
    "      '\\n p value: \\t', ols_age3.pvalues.loc['age'], \n",
    "     '\\n 95% C.I.s: \\t', ols_age3.conf_int(alpha = 0.05).loc['age'].values)"
   ]
  },
  {
   "cell_type": "markdown",
   "id": "75b6e0d9-a568-446b-9274-ff0b4b637f47",
   "metadata": {
    "execution": {
     "iopub.execute_input": "2023-09-28T12:03:08.811969Z",
     "iopub.status.busy": "2023-09-28T12:03:08.811088Z",
     "iopub.status.idle": "2023-09-28T12:03:08.828812Z",
     "shell.execute_reply": "2023-09-28T12:03:08.824839Z",
     "shell.execute_reply.started": "2023-09-28T12:03:08.811866Z"
    }
   },
   "source": [
    "Biased estimate now 32.5% lower than the correct one."
   ]
  },
  {
   "cell_type": "markdown",
   "id": "43b26c06-bf96-4667-b767-5a27f92235f1",
   "metadata": {},
   "source": [
    "So, naively using all/ as many as possible variables as inputs can result in very substantial bias! Don't throw in everything and the kitchen sink.\n",
    "\n",
    "**Overall, confounding bias (Simpson's paradox) and/or collider bias (Berkson's paradox) can lead to highly biased estimates.**\n",
    "\n",
    "-- \n",
    "\n",
    "Going back to our original, correctly identified, unbiased estimate:\n",
    "\n",
    "**We've found that joining this subscription programme causes additional future spending of £555.9 on average at this retailer over the next year. (Synthetic data).**\n",
    "\n",
    "**Now we can proceed to validation, to check whether our DAG, and our whole estimate, are consistent with our data.**"
   ]
  },
  {
   "cell_type": "markdown",
   "id": "8c016f4c-3eed-421c-af74-d69cabc0a3d9",
   "metadata": {},
   "source": [
    "# 4. Validation"
   ]
  },
  {
   "cell_type": "markdown",
   "id": "139a2e83-3f27-4341-915b-9c9647cdfdee",
   "metadata": {
    "execution": {
     "iopub.execute_input": "2023-09-28T15:37:09.468817Z",
     "iopub.status.busy": "2023-09-28T15:37:09.468012Z",
     "iopub.status.idle": "2023-09-28T15:37:09.478419Z",
     "shell.execute_reply": "2023-09-28T15:37:09.476259Z",
     "shell.execute_reply.started": "2023-09-28T15:37:09.468715Z"
    }
   },
   "source": [
    "## 4.A. DAG vs. data"
   ]
  },
  {
   "cell_type": "markdown",
   "id": "8b9f33c3-032a-4b25-b719-84cd04f36fef",
   "metadata": {
    "tags": []
   },
   "source": [
    "DAG - d-separation - (conditional) dependecies & independencies. Must\n",
    "1. **DAG**: apply d-separation, find what (conditional) independecies the DAG implies, if any.\n",
    "2. **vs. data**: test if these (conditional) independecies all also exist in the data, standard statstistical tests.\n",
    "\n",
    "### Both, in DoWhy\n",
    "DoWhy `refute_graph()` tests whether **X ⊥ Y | Z**, for all possible combinations of X, Y and Z. \n",
    "\n",
    "Z is a set, parameter `k` below is the number of variables in it. So k max can be (num DAG variables - 2)."
   ]
  },
  {
   "cell_type": "code",
   "execution_count": 24,
   "id": "07887261-5941-40e3-a979-00ff83294171",
   "metadata": {
    "execution": {
     "iopub.execute_input": "2023-10-10T17:39:41.584038Z",
     "iopub.status.busy": "2023-10-10T17:39:41.583372Z",
     "iopub.status.idle": "2023-10-10T17:39:41.782828Z",
     "shell.execute_reply": "2023-10-10T17:39:41.781623Z",
     "shell.execute_reply.started": "2023-10-10T17:39:41.583989Z"
    },
    "tags": []
   },
   "outputs": [
    {
     "name": "stdout",
     "output_type": "stream",
     "text": [
      "k=0\n",
      "Method name for discrete data:conditional_mutual_information\n",
      "Method name for continuous data:partial_correlation\n",
      "Number of conditional independencies entailed by model:0\n",
      "Number of independences satisfied by data:0\n",
      "Test passed:True\n",
      "\n",
      "k=1\n",
      "Method name for discrete data:conditional_mutual_information\n",
      "Method name for continuous data:partial_correlation\n",
      "Number of conditional independencies entailed by model:0\n",
      "Number of independences satisfied by data:0\n",
      "Test passed:True\n",
      "\n",
      "k=2\n",
      "Method name for discrete data:conditional_mutual_information\n",
      "Method name for continuous data:partial_correlation\n",
      "Number of conditional independencies entailed by model:0\n",
      "Number of independences satisfied by data:0\n",
      "Test passed:True\n",
      "\n",
      "k=3\n",
      "Method name for discrete data:conditional_mutual_information\n",
      "Method name for continuous data:partial_correlation\n",
      "Number of conditional independencies entailed by model:0\n",
      "Number of independences satisfied by data:0\n",
      "Test passed:True\n",
      "\n",
      "k=4\n",
      "Method name for discrete data:conditional_mutual_information\n",
      "Method name for continuous data:partial_correlation\n",
      "Number of conditional independencies entailed by model:0\n",
      "Number of independences satisfied by data:0\n",
      "Test passed:True\n",
      "\n"
     ]
    }
   ],
   "source": [
    "# DoWhy\n",
    "for k in list(range(0,5)):\n",
    "    print(f'k={k}')\n",
    "    refuter_object = model.refute_graph(k=k, \n",
    "                                    independence_test = {'test_for_continuous': 'partial_correlation', \n",
    "                                                         'test_for_discrete' : 'conditional_mutual_information'}) #Change k parameter to test conditional independence given different number of variables \n",
    "    print(refuter_object)"
   ]
  },
  {
   "cell_type": "markdown",
   "id": "bbbc2e5f-c0ef-499f-ac8d-2309327acb00",
   "metadata": {
    "execution": {
     "iopub.execute_input": "2023-09-28T15:24:24.344943Z",
     "iopub.status.busy": "2023-09-28T15:24:24.344486Z",
     "iopub.status.idle": "2023-09-28T15:24:24.357810Z",
     "shell.execute_reply": "2023-09-28T15:24:24.354269Z",
     "shell.execute_reply.started": "2023-09-28T15:24:24.344888Z"
    }
   },
   "source": [
    "This specific DAG implies: only (conditional) dependencies, no independence claims -- nothing is d-separable from anything. So this DAG makes no strong claims of independence.\n",
    "\n",
    "\n",
    "### DAG: in DAGitty...\n",
    "* If you'd like to see _which_ (conditional) independencies the DAG implies, DAGitty lists all. But can't load data into DAGitty web tool, so then ... \n",
    "\n",
    "### ... vs. the data: in DoWhy\n",
    "* Use DoWhy to test each of these against the data. (If any of these fail vs. the data, we will know _which part_ of the DAG is wrong and so we should revisit.) \n",
    "\n",
    "\n",
    "Normally we'd only check the **in**dependence relationships found, but here there's none -- still, functionality shown below. \n",
    "\n",
    "DoWhy's Partial correlation implementation, tests whether X and Y are independent (uncorrelated) conditional on Z:"
   ]
  },
  {
   "cell_type": "code",
   "execution_count": 25,
   "id": "14267d64-50ba-43fc-a610-3fddce644ca1",
   "metadata": {
    "execution": {
     "iopub.execute_input": "2023-10-10T17:39:41.786070Z",
     "iopub.status.busy": "2023-10-10T17:39:41.785597Z",
     "iopub.status.idle": "2023-10-10T17:39:41.850840Z",
     "shell.execute_reply": "2023-10-10T17:39:41.849113Z",
     "shell.execute_reply.started": "2023-10-10T17:39:41.786022Z"
    },
    "tags": []
   },
   "outputs": [
    {
     "data": {
      "text/plain": [
       "{'n': 16796,\n",
       " 'r': 0.042714942805828805,\n",
       " 'CI95%': [array([0.028, 0.058])],\n",
       " 'p-val': 0.0}"
      ]
     },
     "execution_count": 25,
     "metadata": {},
     "output_type": "execute_result"
    }
   ],
   "source": [
    "from dowhy.utils.cit import partial_corr\n",
    "\n",
    "partial_corr(df, x='vertical_frac', y='post_spend', z=['affluence'])"
   ]
  },
  {
   "cell_type": "code",
   "execution_count": 26,
   "id": "58954edf-7193-45e5-abe7-2258dfaee091",
   "metadata": {
    "execution": {
     "iopub.execute_input": "2023-10-10T17:39:41.853762Z",
     "iopub.status.busy": "2023-10-10T17:39:41.853367Z",
     "iopub.status.idle": "2023-10-10T17:39:41.875880Z",
     "shell.execute_reply": "2023-10-10T17:39:41.874830Z",
     "shell.execute_reply.started": "2023-10-10T17:39:41.853703Z"
    },
    "tags": []
   },
   "outputs": [
    {
     "data": {
      "text/plain": [
       "{'n': 16796,\n",
       " 'r': 0.21598236165125034,\n",
       " 'CI95%': [array([0.202, 0.23 ])],\n",
       " 'p-val': 0.0}"
      ]
     },
     "execution_count": 26,
     "metadata": {},
     "output_type": "execute_result"
    }
   ],
   "source": [
    "partial_corr(df, x='affluence', y='post_spend', z=[])"
   ]
  },
  {
   "cell_type": "markdown",
   "id": "67edc89e-07f0-4e80-bedb-6530b4c7f4c1",
   "metadata": {
    "execution": {
     "iopub.execute_input": "2023-10-05T16:20:21.430618Z",
     "iopub.status.busy": "2023-10-05T16:20:21.429866Z",
     "iopub.status.idle": "2023-10-05T16:20:21.450932Z",
     "shell.execute_reply": "2023-10-05T16:20:21.447673Z",
     "shell.execute_reply.started": "2023-10-05T16:20:21.430531Z"
    }
   },
   "source": [
    "Interpreting this output:\n",
    "* `n`: the number of rows in our data\n",
    "* `r`: the partial correlation coefficient between x and y, conditional on z. If z=[], empty set, unconditional independence test. Here: Non-0 correlation coefficients.\n",
    "* `CI95%`: the 95% confidence interval for `r`.\n",
    "* `p-val`: the p-value at the 5% significance level. If this is less than 0.05, we can reject the null hypothesis that x and y are independent conditional on z. Here, the p-value is 0.0 < 0.05, which means there is a stastistically significant dependence i.e. correlation.\n",
    "\n",
    "\n",
    "**So, we've found that our DAG is consistent with our data.**"
   ]
  },
  {
   "cell_type": "markdown",
   "id": "b424a869-4c69-4a9a-9b6a-4a0d370ab61a",
   "metadata": {},
   "source": [
    "## 4.B DoWhy: Final estimate vs. data\n",
    "Estimate obtained from chosen estimation model (with inputs chosen based on 1. DAG; 2. identificaiton step) vs the data.\n",
    "\n",
    "DoWhy offers several refuters for this.\n",
    "\n",
    "E.g. these 3 refuters, per the DoWhy documentation:\n",
    "\n",
    "* Does the estimated effect change significantly when we replace the given dataset with ...\n",
    "   -  ... bootstrapped samples from the same dataset? (**Bootstrap Validation**)\n",
    "   - ...  a randomly selected subset? (**Data Subsets Validation**)\n",
    "* Does the estimation method change its estimate after we add an independent random variable as a common cause to the dataset? (**Add Random Common Cause**)\n",
    "\n",
    "For all 3 - Hint: It should not.\n"
   ]
  },
  {
   "cell_type": "markdown",
   "id": "3d665ec6-1764-42f8-96b5-b547913fbb28",
   "metadata": {
    "execution": {
     "iopub.execute_input": "2023-09-28T15:38:18.360553Z",
     "iopub.status.busy": "2023-09-28T15:38:18.359796Z",
     "iopub.status.idle": "2023-09-28T15:38:18.379653Z",
     "shell.execute_reply": "2023-09-28T15:38:18.377706Z",
     "shell.execute_reply.started": "2023-09-28T15:38:18.360446Z"
    }
   },
   "source": [
    "For these tests to indicate that our results are valid, in their outputs they should all:\n",
    "   * Give an 'Estimated Effect' that is close to the 'New Effect' (that they compute under these changes), &\n",
    "   * Give a large p-value, greater than 0.05, meaning: no statistically significant difference between the estimated and the new effects\n",
    " "
   ]
  },
  {
   "cell_type": "code",
   "execution_count": 27,
   "id": "cc072b32-3f37-422d-aad3-1b34fc308236",
   "metadata": {
    "execution": {
     "iopub.execute_input": "2023-10-10T17:39:41.878637Z",
     "iopub.status.busy": "2023-10-10T17:39:41.878292Z",
     "iopub.status.idle": "2023-10-10T17:39:41.915902Z",
     "shell.execute_reply": "2023-10-10T17:39:41.914328Z",
     "shell.execute_reply.started": "2023-10-10T17:39:41.878586Z"
    },
    "tags": []
   },
   "outputs": [],
   "source": [
    "# Refute estimate\n",
    "refutation_list= []\n",
    "inspect_refutations = True\n",
    "refuter_list = [\"bootstrap_refuter\", \"data_subset_refuter\", \"random_common_cause\"]"
   ]
  },
  {
   "cell_type": "code",
   "execution_count": 28,
   "id": "56c02290-1e0d-499f-87e8-cf0619b0a234",
   "metadata": {
    "execution": {
     "iopub.execute_input": "2023-10-10T17:39:41.922091Z",
     "iopub.status.busy": "2023-10-10T17:39:41.921718Z",
     "iopub.status.idle": "2023-10-10T17:40:04.121769Z",
     "shell.execute_reply": "2023-10-10T17:40:04.118050Z",
     "shell.execute_reply.started": "2023-10-10T17:39:41.922044Z"
    },
    "tags": []
   },
   "outputs": [],
   "source": [
    "%%capture\n",
    "for refuter in refuter_list:\n",
    "    ref = model.refute_estimate(estimands, estimate, method_name=refuter)\n",
    "    refutation_list.append(ref)"
   ]
  },
  {
   "cell_type": "code",
   "execution_count": 29,
   "id": "fd9c8a45-9180-4cf1-a3e3-244b1a6c01aa",
   "metadata": {
    "execution": {
     "iopub.execute_input": "2023-10-10T17:40:04.124988Z",
     "iopub.status.busy": "2023-10-10T17:40:04.124644Z",
     "iopub.status.idle": "2023-10-10T17:40:04.145198Z",
     "shell.execute_reply": "2023-10-10T17:40:04.142566Z",
     "shell.execute_reply.started": "2023-10-10T17:40:04.124945Z"
    },
    "tags": []
   },
   "outputs": [
    {
     "name": "stdout",
     "output_type": "stream",
     "text": [
      "####### Refutation 1#######################################################################################\n",
      "Refute: Bootstrap Sample Dataset\n",
      "Estimated effect:555.9003475909958\n",
      "New effect:553.3173718006659\n",
      "p value:1.0\n",
      "\n",
      "####### Refutation 2#######################################################################################\n",
      "Refute: Use a subset of data\n",
      "Estimated effect:555.9003475909958\n",
      "New effect:552.3741440620961\n",
      "p value:0.8400000000000001\n",
      "\n",
      "####### Refutation 3#######################################################################################\n",
      "Refute: Add a random common cause\n",
      "Estimated effect:555.9003475909958\n",
      "New effect:555.9663141143694\n",
      "p value:0.92\n",
      "\n"
     ]
    }
   ],
   "source": [
    "# Refutation values\n",
    "refuter_count = 1\n",
    "if inspect_refutations is True:\n",
    "    for refutation in refutation_list:\n",
    "        print(\"####### Refutation {}#######################################################################################\".format(refuter_count))\n",
    "        print(refutation)\n",
    "        refuter_count += 1"
   ]
  },
  {
   "cell_type": "markdown",
   "id": "be477d17-5353-4fe5-83aa-523b84b3dd88",
   "metadata": {},
   "source": [
    "As expected, all 3 refuters find: our estimate is consistent with the data. There is no statistically significant difference between the estimated and the new effects (New and Estimated effect values: very similar; p-values are greater than 0.05). \n"
   ]
  },
  {
   "cell_type": "markdown",
   "id": "0cfe6300-8c1b-4c92-ac28-9de0bfb2aad8",
   "metadata": {},
   "source": [
    "DoWhy has further refuters. Note: one for **sensitivity analysis** to unmeasured confounders (`method_name=\"add_unobserved_common_cause\"`):\n",
    "* How much will the effect estimate change, at different levels of unmeasured confounding? E.g. will it still be positive? \n",
    "* This requires the user to parametrise it with assumptions for the maximum possible effect size of an unmeasured confounder, based on domain expertise. \n",
    "* For more, see this example notebook: https://github.com/py-why/dowhy/blob/main/docs/source/example_notebooks/dowhy_simple_example.ipynb"
   ]
  },
  {
   "cell_type": "markdown",
   "id": "fd3a6262-bbc9-40f6-9d1f-fcd533f84cfa",
   "metadata": {
    "execution": {
     "iopub.execute_input": "2023-10-11T12:30:44.977470Z",
     "iopub.status.busy": "2023-10-11T12:30:44.976772Z",
     "iopub.status.idle": "2023-10-11T12:30:44.994219Z",
     "shell.execute_reply": "2023-10-11T12:30:44.990601Z",
     "shell.execute_reply.started": "2023-10-11T12:30:44.977381Z"
    }
   },
   "source": [
    "### DAGitty online tool\n",
    "\n",
    "https://dagitty.net/dags.html#\n",
    "\n",
    "e.g. click 'Examples' at the top, select 'Extended Confouding Triangle'.\n"
   ]
  },
  {
   "cell_type": "markdown",
   "id": "ca32402f-e381-4f89-a32a-da3d76b0e92c",
   "metadata": {
    "execution": {
     "iopub.execute_input": "2023-10-11T12:02:24.668481Z",
     "iopub.status.busy": "2023-10-11T12:02:24.668023Z",
     "iopub.status.idle": "2023-10-11T12:02:24.688860Z",
     "shell.execute_reply": "2023-10-11T12:02:24.687062Z",
     "shell.execute_reply.started": "2023-10-11T12:02:24.668426Z"
    }
   },
   "source": [
    "# Further materials\n",
    "If you'd like to understand more about these tools, resources to check out next:\n",
    "* DoWhy - user guide: https://www.pywhy.org/dowhy/v0.10.1/user_guide/index.html\n",
    "* DAGitty.net - brief 'cheat sheet' guide: https://dagitty.net/learn/primer/Dagitty-Cheat-Sheet.pdf "
   ]
  },
  {
   "cell_type": "code",
   "execution_count": null,
   "id": "0298ad37-cf9a-41f1-81dd-ad10d677af81",
   "metadata": {},
   "outputs": [],
   "source": []
  }
 ],
 "metadata": {
  "kernelspec": {
   "display_name": "venv-python-stable-causal",
   "language": "python",
   "name": "venv_python_stable_causal"
  },
  "language_info": {
   "codemirror_mode": {
    "name": "ipython",
    "version": 3
   },
   "file_extension": ".py",
   "mimetype": "text/x-python",
   "name": "python",
   "nbconvert_exporter": "python",
   "pygments_lexer": "ipython3",
   "version": "3.6.8"
  }
 },
 "nbformat": 4,
 "nbformat_minor": 5
}
